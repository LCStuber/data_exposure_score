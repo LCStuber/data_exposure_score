{
 "cells": [
  {
   "cell_type": "code",
   "execution_count": null,
   "id": "40bfdbbe",
   "metadata": {},
   "outputs": [],
   "source": [
    "## Imports\n",
    "from atproto import Client, models\n",
    "from atproto.exceptions import AtProtocolError\n",
    "import csv\n",
    "import pandas as pd\n",
    "import json\n",
    "import time"
   ]
  },
  {
   "cell_type": "code",
   "execution_count": null,
   "id": "13f105e9",
   "metadata": {},
   "outputs": [],
   "source": [
    "# Autenticação na conta BlueSky\n",
    "client = Client()\n",
    "client.login(\"lcstuber.net\", \"bxax-ucco-xz2d-gseu\")\n",
    "\n",
    "# Nome de usuário\n",
    "username = \"gatinha01.bsky.social\"\n"
   ]
  },
  {
   "cell_type": "code",
   "execution_count": null,
   "id": "1c9e86be",
   "metadata": {},
   "outputs": [],
   "source": [
    "data = client.get_timeline(limit=30)\n",
    "\n",
    "feed = data.feed\n",
    "next_page = data.cursor"
   ]
  },
  {
   "cell_type": "code",
   "execution_count": null,
   "id": "c3c71289",
   "metadata": {},
   "outputs": [],
   "source": [
    "def get_all_followers(handle: str):\n",
    "    try:\n",
    "        profile = client.com.atproto.identity.resolve_handle({'handle': handle})\n",
    "        did = profile['did']\n",
    "\n",
    "        followers = []\n",
    "        cursor = None\n",
    "\n",
    "        while True:\n",
    "            response = client.app.bsky.graph.get_followers({\n",
    "                'actor': did,\n",
    "                'limit': 100,\n",
    "                'cursor': cursor\n",
    "            })\n",
    "\n",
    "            followers_batch = response['followers']\n",
    "            followers.extend(followers_batch)\n",
    "\n",
    "            # Opcional: log de progresso\n",
    "            print(f\"Coletados {len(followers)} seguidores até agora...\")\n",
    "\n",
    "            # Checa se há um cursor para continuar\n",
    "            cursor = response.cursor\n",
    "            if not cursor:\n",
    "                break\n",
    "\n",
    "        return followers\n",
    "\n",
    "    except AtProtocolError as e:\n",
    "        print(f\"Erro na API: {e}\")\n",
    "        return []"
   ]
  },
  {
   "cell_type": "code",
   "execution_count": null,
   "id": "b3b21c4c",
   "metadata": {},
   "outputs": [],
   "source": [
    "handle = 'duolingobrasil.com.br'\n",
    "followers = get_all_followers(handle)\n",
    "print(f'Total de seguidores: {len(followers)}')"
   ]
  },
  {
   "cell_type": "code",
   "execution_count": null,
   "id": "64a8d98e",
   "metadata": {},
   "outputs": [],
   "source": [
    "def get_all_posts_of_user(did: str):\n",
    "    all_posts = []\n",
    "    cursor = None\n",
    "\n",
    "    while True:\n",
    "        try:\n",
    "            response = client.app.bsky.feed.get_author_feed({\n",
    "                'actor': did,\n",
    "                'limit': 100,\n",
    "                'cursor': cursor\n",
    "            })\n",
    "\n",
    "            feed = response.feed\n",
    "\n",
    "            if not feed:\n",
    "                break\n",
    "\n",
    "            for post in feed:\n",
    "                post_data = {\n",
    "                    'uri': post.post.uri,\n",
    "                    'text': post.post.record.text,\n",
    "                    'created_at': post.post.record.created_at\n",
    "                }\n",
    "                all_posts.append(post_data)\n",
    "\n",
    "            cursor = response.cursor\n",
    "            if not cursor:\n",
    "                break\n",
    "\n",
    "            time.sleep(0.2)\n",
    "\n",
    "        except Exception as e:\n",
    "            print(f\"Erro ao buscar posts de {did}: {e}\")\n",
    "            break\n",
    "\n",
    "    return all_posts"
   ]
  },
  {
   "cell_type": "code",
   "execution_count": null,
   "id": "926d7d3b",
   "metadata": {},
   "outputs": [],
   "source": [
    "def save_incrementally(data, filename='followers_posts.json'):\n",
    "    try:\n",
    "        with open(filename, 'r', encoding='utf-8') as f:\n",
    "            existing_data = json.load(f)\n",
    "    except (FileNotFoundError, json.JSONDecodeError):\n",
    "        existing_data = []\n",
    "\n",
    "    existing_data.append(data)\n",
    "\n",
    "    with open(filename, 'w', encoding='utf-8') as f:\n",
    "        json.dump(existing_data, f, ensure_ascii=False, indent=4)\n",
    "\n",
    "    print(f\"Dados salvos com sucesso.\")"
   ]
  },
  {
   "cell_type": "code",
   "execution_count": null,
   "id": "50a2bc69",
   "metadata": {},
   "outputs": [],
   "source": [
    "for follower in followers:\n",
    "    follower_did = follower['did']\n",
    "    follower_handle = follower['handle']\n",
    "\n",
    "    print(f\"Buscando posts de @{follower_handle} ({follower_did})...\")\n",
    "\n",
    "    posts = get_all_posts_of_user(follower_did)\n",
    "\n",
    "    user_data = {\n",
    "        'posts': posts\n",
    "    }\n",
    "\n",
    "    save_incrementally(user_data)\n",
    "\n",
    "    print(f\"Coletados {len(posts)} posts de @{follower_handle}.\\n\")\n",
    "\n",
    "    time.sleep(0.5)"
   ]
  }
 ],
 "metadata": {
  "kernelspec": {
   "display_name": "Python 3",
   "language": "python",
   "name": "python3"
  },
  "language_info": {
   "codemirror_mode": {
    "name": "ipython",
    "version": 3
   },
   "file_extension": ".py",
   "mimetype": "text/x-python",
   "name": "python",
   "nbconvert_exporter": "python",
   "pygments_lexer": "ipython3",
   "version": "3.13.3"
  }
 },
 "nbformat": 4,
 "nbformat_minor": 5
}
