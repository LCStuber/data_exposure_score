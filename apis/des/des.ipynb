{
 "cells": [
  {
   "cell_type": "code",
   "execution_count": 20,
   "id": "15eccc22",
   "metadata": {},
   "outputs": [],
   "source": [
    "import pandas as pd"
   ]
  },
  {
   "cell_type": "code",
   "execution_count": 21,
   "id": "8346abca",
   "metadata": {},
   "outputs": [
    {
     "data": {
      "text/plain": [
       "{'NomeDeclaradoOuSugeridoPeloAutor': 'VERDADEIRO',\n",
       " 'IdadeDeclaradaOuInferidaDoAutor': 'VERDADEIRO',\n",
       " 'GeneroAutoDeclaradoOuInferidoDoAutor': 'VERDADEIRO',\n",
       " 'OrientacaoSexualDeclaradaOuSugeridaPeloAutor': 'VERDADEIRO',\n",
       " 'StatusDeRelacionamentoDeclaradoOuSugeridoPeloAutor': 'VERDADEIRO',\n",
       " 'ProfissaoOcupacaoDeclaradaPeloAutor': 'VERDADEIRO',\n",
       " 'NivelEducacionalDeclaradoOuInferidoPeloAutor': 'VERDADEIRO',\n",
       " 'LocalizacaoPrincipalDeclaradaOuInferidaDoAutor': 'VERDADEIRO',\n",
       " 'CidadesComRelevanciaPessoalParaOAutor': 'VERDADEIRO',\n",
       " 'CrencaReligiosaDeclaradaOuSugeridaPeloAutor': 'VERDADEIRO',\n",
       " 'OpinioesPoliticasExpressasPeloAutor': 'VERDADEIRO',\n",
       " 'ExposicaoDeRelacionamentosPessoaisPeloAutor': 'VERDADEIRO',\n",
       " 'MencaoDoAutorAPosseDeCPF': 'VERDADEIRO',\n",
       " 'MencaoDoAutorAPosseDeRG': 'VERDADEIRO',\n",
       " 'MencaoDoAutorAPosseDePassaporte': 'VERDADEIRO',\n",
       " 'MencaoDoAutorAPosseDeTituloEleitor': 'VERDADEIRO',\n",
       " 'EtniaOuRacaAutoDeclaradaPeloAutor': 'VERDADEIRO',\n",
       " 'MencaoDoAutorAEnderecoResidencial': 'VERDADEIRO',\n",
       " 'MencaoDoAutorAContatoPessoal_TelefoneEmail': 'VERDADEIRO',\n",
       " 'MencaoDoAutorADadosBancarios': 'VERDADEIRO',\n",
       " 'MencaoDoAutorACartaoDeEmbarque': 'VERDADEIRO',\n",
       " 'IndicadoresDeRendaPropriaMencionadosPeloAutor': 'VERDADEIRO',\n",
       " 'MencoesAPatrimonioPessoalDoAutor': 'VERDADEIRO',\n",
       " 'LocalDeTrabalhoOuEstudoDeclaradoPeloAutor': 'VERDADEIRO',\n",
       " 'MencaoDoAutorARecebimentoDeBeneficioSocial': 'VERDADEIRO',\n",
       " 'MencoesAoProprioHistoricoFinanceiroPeloAutor': 'VERDADEIRO',\n",
       " 'MencoesDoAutorAProprioHistoricoCriminal': 'VERDADEIRO',\n",
       " 'MencaoDoAutorAPosseDeChavePix': 'FALSO'}"
      ]
     },
     "execution_count": 21,
     "metadata": {},
     "output_type": "execute_result"
    }
   ],
   "source": [
    "df = pd.read_json('test.json').to_dict()\n",
    "new_df = df\n",
    "for k,v in df.items():\n",
    "    new_df[k] = v[0]\n",
    "new_df"
   ]
  },
  {
   "cell_type": "code",
   "execution_count": 25,
   "id": "16f1099d",
   "metadata": {},
   "outputs": [],
   "source": [
    "categorias = {\n",
    "    \"Informação Financeira\": {\"Impacto\": 10, \"Explorabilidade\": 8},\n",
    "    \"Documentos Pessoais\": {\"Impacto\": 10, \"Explorabilidade\": 7},\n",
    "    \"Localização em Tempo Real\": {\"Impacto\": 8, \"Explorabilidade\": 9},\n",
    "    \"Contato Pessoal\": {\"Impacto\": 8, \"Explorabilidade\": 10},\n",
    "    \"Rotina/Hábitos\": {\"Impacto\": 6, \"Explorabilidade\": 6},\n",
    "    \"Posicionamento e Características Pessoais\": {\"Impacto\": 4, \"Explorabilidade\": 5}\n",
    "}\n",
    "\n",
    "exposicao_autor = {\n",
    "    \"NomeDeclaradoOuSugeridoPeloAutor\": categorias[\"Posicionamento e Características Pessoais\"],\n",
    "    \"IdadeDeclaradaOuInferidaDoAutor\": categorias[\"Posicionamento e Características Pessoais\"],\n",
    "    \"GeneroAutoDeclaradoOuInferidoDoAutor\": categorias[\"Posicionamento e Características Pessoais\"],\n",
    "    \"OrientacaoSexualDeclaradaOuSugeridaPeloAutor\": categorias[\"Posicionamento e Características Pessoais\"],\n",
    "    \"StatusDeRelacionamentoDeclaradoOuSugeridoPeloAutor\": categorias[\"Posicionamento e Características Pessoais\"],\n",
    "    \"ProfissaoOcupacaoDeclaradaPeloAutor\": categorias[\"Rotina/Hábitos\"],\n",
    "    \"NivelEducacionalDeclaradoOuInferidoPeloAutor\": categorias[\"Posicionamento e Características Pessoais\"],\n",
    "    \"LocalizacaoPrincipalDeclaradaOuInferidaDoAutor\": categorias[\"Localização em Tempo Real\"],\n",
    "    \"CidadesComRelevanciaPessoalParaOAutor\": categorias[\"Localização em Tempo Real\"],\n",
    "    \"CrencaReligiosaDeclaradaOuSugeridaPeloAutor\": categorias[\"Posicionamento e Características Pessoais\"],\n",
    "    \"OpinioesPoliticasExpressasPeloAutor\": categorias[\"Posicionamento e Características Pessoais\"],\n",
    "    \"ExposicaoDeRelacionamentosPessoaisPeloAutor\": categorias[\"Posicionamento e Características Pessoais\"],\n",
    "    \"MencaoDoAutorAPosseDeCPF\": categorias[\"Documentos Pessoais\"],\n",
    "    \"MencaoDoAutorAPosseDeRG\": categorias[\"Documentos Pessoais\"],\n",
    "    \"MencaoDoAutorAPosseDePassaporte\": categorias[\"Documentos Pessoais\"],\n",
    "    \"MencaoDoAutorAPosseDeTituloEleitor\": categorias[\"Documentos Pessoais\"],\n",
    "    \"EtniaOuRacaAutoDeclaradaPeloAutor\": categorias[\"Posicionamento e Características Pessoais\"],\n",
    "    \"MencaoDoAutorAEnderecoResidencial\": categorias[\"Localização em Tempo Real\"],\n",
    "    \"MencaoDoAutorAContatoPessoal_TelefoneEmail\": categorias[\"Contato Pessoal\"],\n",
    "    \"MencaoDoAutorADadosBancarios\": categorias[\"Informação Financeira\"],\n",
    "    \"MencaoDoAutorACartaoDeEmbarque\": categorias[\"Documentos Pessoais\"],\n",
    "    \"IndicadoresDeRendaPropriaMencionadosPeloAutor\": categorias[\"Informação Financeira\"],\n",
    "    \"MencoesAPatrimonioPessoalDoAutor\": categorias[\"Informação Financeira\"],\n",
    "    \"LocalDeTrabalhoOuEstudoDeclaradoPeloAutor\": categorias[\"Rotina/Hábitos\"],\n",
    "    \"MencaoDoAutorARecebimentoDeBeneficioSocial\": categorias[\"Informação Financeira\"],\n",
    "    \"MencoesAoProprioHistoricoFinanceiroPeloAutor\": categorias[\"Informação Financeira\"],\n",
    "    \"MencoesDoAutorAProprioHistoricoCriminal\": categorias[\"Documentos Pessoais\"],\n",
    "    \"MencaoDoAutorAPosseDeChavePix\": categorias[\"Informação Financeira\"]\n",
    "}\n"
   ]
  },
  {
   "cell_type": "code",
   "execution_count": 29,
   "id": "5a8ae1c1",
   "metadata": {},
   "outputs": [
    {
     "data": {
      "text/plain": [
       "(1388, 54.495912806539536, 1468, 945.5040871934605)"
      ]
     },
     "execution_count": 29,
     "metadata": {},
     "output_type": "execute_result"
    }
   ],
   "source": [
    "des = 0\n",
    "for k, v in exposicao_autor.items():\n",
    "    curr_value = 0\n",
    "    if new_df[k] == \"VERDADEIRO\":\n",
    "        curr_value = 1\n",
    "    curr_value *= v[\"Impacto\"] * v[\"Explorabilidade\"]\n",
    "    des += curr_value\n",
    "\n",
    "des_max = sum(v[\"Impacto\"] * v[\"Explorabilidade\"] for v in exposicao_autor.values())\n",
    "\n",
    "des_scaled = (des / des_max) * 1000\n",
    "\n",
    "des_final = 1000 - des_scaled\n",
    "\n",
    "des, des_final, des_max, des_scaled\n"
   ]
  }
 ],
 "metadata": {
  "kernelspec": {
   "display_name": "Python 3",
   "language": "python",
   "name": "python3"
  },
  "language_info": {
   "codemirror_mode": {
    "name": "ipython",
    "version": 3
   },
   "file_extension": ".py",
   "mimetype": "text/x-python",
   "name": "python",
   "nbconvert_exporter": "python",
   "pygments_lexer": "ipython3",
   "version": "3.11.9"
  }
 },
 "nbformat": 4,
 "nbformat_minor": 5
}
